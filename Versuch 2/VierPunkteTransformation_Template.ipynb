{
 "cells": [
  {
   "cell_type": "code",
   "execution_count": null,
   "metadata": {},
   "outputs": [],
   "source": [
    "# Alle Variablen löschen ohne zu fragen.\n",
    "# Hierdurch werden Seiteneffekte vermieden.\n",
    "%reset -f"
   ]
  },
  {
   "cell_type": "code",
   "execution_count": null,
   "metadata": {},
   "outputs": [],
   "source": [
    "%matplotlib notebook\n",
    "\n",
    "# Laden der verwendeten Bibliotheken\n",
    "from PIL import Image\n",
    "import   numpy  as np               \n",
    "import   scipy \n",
    "import   matplotlib                 # https://matplotlib.org/3.1.1/tutorials/index.html\n",
    "import   matplotlib.pyplot as plt   # https://matplotlib.org/tutorials/introductory/pyplot.html\n",
    "import   time"
   ]
  },
  {
   "cell_type": "code",
   "execution_count": null,
   "metadata": {},
   "outputs": [],
   "source": [
    "# Bild laden mit PIL\n",
    "img = Image.open(\"kalib.bmp\").convert(\"L\")"
   ]
  },
  {
   "cell_type": "code",
   "execution_count": null,
   "metadata": {},
   "outputs": [],
   "source": [
    "# PIL-Image darstellen\n",
    "img"
   ]
  },
  {
   "cell_type": "code",
   "execution_count": null,
   "metadata": {},
   "outputs": [],
   "source": [
    "# Informationen über PIL-Image\n",
    "print('format =', img.format)\n",
    "print('info   =', img.info)\n",
    "print()\n",
    "print('size   =', img.size,)\n",
    "print('mode   =', img.mode)  # 'L' = 8-bit-unsigned"
   ]
  },
  {
   "cell_type": "code",
   "execution_count": null,
   "metadata": {},
   "outputs": [],
   "source": [
    "# PIL-Image in ein numpy-Array umwandeln\n",
    "src = np.array(img)\n",
    "src"
   ]
  },
  {
   "cell_type": "code",
   "execution_count": null,
   "metadata": {},
   "outputs": [],
   "source": [
    "# Informationen über numpy-Array\n",
    "print('shape =', src.shape)\n",
    "print('type  =', src.dtype)\n",
    "print('min   =', src.min())\n",
    "print('max   =', src.max())"
   ]
  },
  {
   "cell_type": "code",
   "execution_count": null,
   "metadata": {},
   "outputs": [],
   "source": [
    "def outsideImage(coordinate, maxsize):\n",
    "\n",
    "    return isOutside\n",
    "\n",
    "\n",
    "def bilinInterpol(Xtilde, Ytilde, src):\n",
    "      \n",
    "    return interpolatedValue\n",
    "\n",
    "\n",
    "# eckp = [((x1, y1) .... (x4, y4))]\n",
    "def VierPunkteTransformation(src, eckp, method=0):\n",
    "    \n",
    "    # Zielbild anlegen\n",
    "    dst = np.copy(src)\n",
    "\n",
    "    # Größe des Quellbildes bestimmen\n",
    "    ysize = src.shape[0]\n",
    "    xsize = src.shape[1]\n",
    "                    \n",
    "    return dst\n",
    "\n",
    "\n"
   ]
  },
  {
   "cell_type": "code",
   "execution_count": null,
   "metadata": {},
   "outputs": [],
   "source": [
    "start = time.time()\n",
    "\n",
    "# Eckpunkt-Array anlegen\n",
    "# eckp = [((x1, y1) .... (x4, y4))]\n",
    "\n",
    "# Transformation aufrufen\n",
    "Transformed = VierPunkteTransformation(src, eckp, method=1)\n",
    "\n",
    "ende   = time.time()\n",
    "print('Runtime   = {:5.3f}s'.format(ende-start))"
   ]
  },
  {
   "cell_type": "code",
   "execution_count": null,
   "metadata": {},
   "outputs": [],
   "source": [
    "plt.figure(figsize = (8,7))\n",
    "\n",
    "plt.imshow(Transformed, cmap='gray', vmin=0, vmax=255)\n",
    "plt.title('affine Transformation : vorher - nachher')\n",
    "plt.show()\n",
    "\n",
    "# Informationen zum Bild\n",
    "print('min/max =', Transformed.min(), Transformed.max())\n",
    "print('shape   =', Transformed.shape)\n",
    "print('dtype   =', Transformed.dtype)"
   ]
  },
  {
   "cell_type": "code",
   "execution_count": null,
   "metadata": {},
   "outputs": [],
   "source": [
    "# Liste der Variablen ausgeben\n",
    "%whos    "
   ]
  }
 ],
 "metadata": {
  "kernelspec": {
   "display_name": "Python 3",
   "language": "python",
   "name": "python3"
  },
  "language_info": {
   "codemirror_mode": {
    "name": "ipython",
    "version": 3
   },
   "file_extension": ".py",
   "mimetype": "text/x-python",
   "name": "python",
   "nbconvert_exporter": "python",
   "pygments_lexer": "ipython3",
   "version": "3.7.6"
  }
 },
 "nbformat": 4,
 "nbformat_minor": 4
}
