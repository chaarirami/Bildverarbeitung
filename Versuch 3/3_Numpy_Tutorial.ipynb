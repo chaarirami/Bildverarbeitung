{
 "cells": [
  {
   "cell_type": "markdown",
   "metadata": {},
   "source": [
    "## Numpy-Tutorial 3\n",
    "\n",
    "In diesem Tutorial werden diejenigen Python-Befehle vorgestellt, \n",
    "die für den ersten Teilversuch (Ausgleichung verrauschter Daten)\n",
    "nützlich sind.\n",
    "\n",
    "Dies sind\n",
    "- Addition von Matrizen mit Vektoren (Broadcasting)\n",
    "- Spaltenweise Berechnung des Mittelwertes und der Standardabweichung\n",
    "- Spaltenweise Minimum finden\n",
    "- Ganzzahlige Zufallszahl erzeugen\n",
    "- Gleitender Mittelwert über Zahlenfolge"
   ]
  },
  {
   "cell_type": "code",
   "execution_count": 2,
   "metadata": {},
   "outputs": [],
   "source": [
    "# Alle Variablen löschen ohne zu fragen.\n",
    "# Hierdurch werden Seiteneffekte vermieden.\n",
    "%reset -f"
   ]
  },
  {
   "cell_type": "code",
   "execution_count": 3,
   "metadata": {},
   "outputs": [],
   "source": [
    "import numpy as np\n",
    "import matplotlib as mpl\n",
    "import matplotlib.pyplot as plt"
   ]
  },
  {
   "cell_type": "code",
   "execution_count": 4,
   "metadata": {},
   "outputs": [
    {
     "name": "stdout",
     "output_type": "stream",
     "text": [
      "[[ 3  6]\n",
      " [ 5 10]\n",
      " [ 9 18]]\n",
      "\n",
      "[[2. 2.]\n",
      " [4. 4.]\n",
      " [8. 8.]]\n"
     ]
    }
   ],
   "source": [
    "# Addition eines Vektors y (2,) zu einer Matrix (3,2)\n",
    "# Was mathematisch nicht möglich ist, wird in Python \n",
    "# höchst sinnvoll interpretiert (Broadcasting). \n",
    "\n",
    "# Im folgenden Beispiel z.B. so\n",
    "#             [2,  4]                     [2,  4]     [1,  2]\n",
    "# x + y  -->  [4,  8]  +   [1,  2]   -->  [4,  8]  +  [1,  2] \n",
    "#             [8, 16]                     [8, 16]     [1,  2]\n",
    "\n",
    "x = np.array([[2,4],[4,8],[8,16]])\n",
    "y = np.array([1,2])\n",
    "z1 = x + y\n",
    "z2 = x / y \n",
    "\n",
    "print(z1)\n",
    "print()\n",
    "print(z2)"
   ]
  },
  {
   "cell_type": "code",
   "execution_count": 5,
   "metadata": {},
   "outputs": [
    {
     "name": "stdout",
     "output_type": "stream",
     "text": [
      "Mittelwert         =  [4.66666667 9.33333333]\n",
      "Standardabweichung =  [2.49443826 4.98887652]\n"
     ]
    }
   ],
   "source": [
    "# Spaltenweise Berechnung des Mittelwertes \n",
    "# und der Standardabweichung einer Datentabelle\n",
    "mw = np.mean(x, axis=0)\n",
    "print('Mittelwert         = ', mw)\n",
    "\n",
    "mw = np.std(x, axis=0)\n",
    "print('Standardabweichung = ', mw)"
   ]
  },
  {
   "cell_type": "code",
   "execution_count": 6,
   "metadata": {},
   "outputs": [
    {
     "name": "stdout",
     "output_type": "stream",
     "text": [
      "x2min = 4\n"
     ]
    }
   ],
   "source": [
    "# Minimum der zweiten Datenspalte berechnen\n",
    "x2min = np.min(x[:, 1])\n",
    "print('x2min =', x2min)"
   ]
  },
  {
   "cell_type": "code",
   "execution_count": 12,
   "metadata": {},
   "outputs": [
    {
     "name": "stdout",
     "output_type": "stream",
     "text": [
      "1\n",
      "7\n",
      "0\n",
      "1\n",
      "0\n",
      "4\n",
      "0\n",
      "7\n",
      "0\n",
      "5\n"
     ]
    }
   ],
   "source": [
    "# Ganzzahlige Zufallszahl im Intervall [0,7] erzeugen\n",
    "# hier:   10x hintereinander\n",
    "for i in range(10):\n",
    "    zz = int(np.floor(8*np.random.rand(1)))\n",
    "    print(zz)"
   ]
  },
  {
   "cell_type": "code",
   "execution_count": 10,
   "metadata": {},
   "outputs": [
    {
     "name": "stdout",
     "output_type": "stream",
     "text": [
      "[ 1.    1.25  2.    2.    1.75  1.25  0.5   0.75  2.    0.   -0.25  0.\n",
      "  0.    2.    2.    1.25  2.25  4.5   6.75  9.    6.75]\n"
     ]
    }
   ],
   "source": [
    "# Gleitender Mittelwert über eine Zahlenfolge\n",
    "zf = np.array([1,1,1,1,2,4,1,0,0,1,2,5,-8,0,3,5,0,0,0,9,9,9,9,0])\n",
    "\n",
    "masksize = 4\n",
    "kernel   = np.ones(masksize)/masksize\n",
    "\n",
    "zf_glatt = np.convolve(zf, kernel, mode='valid')\n",
    "print(zf_glatt)"
   ]
  },
  {
   "cell_type": "code",
   "execution_count": null,
   "metadata": {},
   "outputs": [],
   "source": []
  },
  {
   "cell_type": "code",
   "execution_count": null,
   "metadata": {},
   "outputs": [],
   "source": []
  }
 ],
 "metadata": {
  "kernelspec": {
   "display_name": "Python 3",
   "language": "python",
   "name": "python3"
  },
  "language_info": {
   "codemirror_mode": {
    "name": "ipython",
    "version": 3
   },
   "file_extension": ".py",
   "mimetype": "text/x-python",
   "name": "python",
   "nbconvert_exporter": "python",
   "pygments_lexer": "ipython3",
   "version": "3.7.9"
  }
 },
 "nbformat": 4,
 "nbformat_minor": 4
}
