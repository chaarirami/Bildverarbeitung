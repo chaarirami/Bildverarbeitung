{
 "cells": [
  {
   "cell_type": "code",
   "execution_count": 2,
   "metadata": {},
   "outputs": [],
   "source": [
    "# Alle Variablen löschen ohne zu fragen.\n",
    "# Hierdurch werden Seiteneffekte vermieden.\n",
    "%reset -f"
   ]
  },
  {
   "cell_type": "code",
   "execution_count": 3,
   "metadata": {},
   "outputs": [],
   "source": [
    "import numpy as np\n",
    "import matplotlib as mpl\n",
    "import matplotlib.pyplot as plt"
   ]
  },
  {
   "cell_type": "markdown",
   "metadata": {},
   "source": [
    "# Vorbereitende Berechnungen"
   ]
  },
  {
   "cell_type": "code",
   "execution_count": 4,
   "metadata": {},
   "outputs": [],
   "source": [
    "# Bei jedem Duchlauf immer die gleichen Zufallszahlen verwenden.\n",
    "# Anm: So erhält man vergleichbare Ergebnisse.\n",
    "\n",
    "np.random.seed(42)"
   ]
  },
  {
   "cell_type": "code",
   "execution_count": 5,
   "metadata": {},
   "outputs": [
    {
     "name": "stdout",
     "output_type": "stream",
     "text": [
      "x_stepwidth =  0.15\n",
      "Size  of x  =  40\n",
      "Shape of x  =  (40,)\n",
      "Size  of yNoise =  40\n",
      "Shape of Noise  =  (40,)\n"
     ]
    },
    {
     "data": {
      "text/plain": [
       "<matplotlib.legend.Legend at 0x205f7f29fc8>"
      ]
     },
     "execution_count": 5,
     "metadata": {},
     "output_type": "execute_result"
    },
    {
     "data": {
      "image/png": "[encoded data removed]",
      "text/plain": [
       "<Figure size 432x288 with 1 Axes>"
      ]
     },
     "metadata": {
      "needs_background": "light"
     },
     "output_type": "display_data"
    }
   ],
   "source": [
    "# Erzeugen eines verrauschten Datensatzes (x,yNoise)\n",
    "# --------------------------------------------------\n",
    "\n",
    "n      = 40 # Anzahl der Messpunkte\n",
    "pp     = 2  # Rauschamplitude Peak-to-Peak\n",
    "xStart = 0  \n",
    "xStop  = 6\n",
    "\n",
    "# Schrittweite der Messwerte in x-Richtung\n",
    "x_stepwidth = (xStop-xStart)/n\n",
    "print('x_stepwidth = ', x_stepwidth)\n",
    "\n",
    "# Erzeugen des Zufallszahlen-Vektors für das\n",
    "# Verrauschen des polynomalen Prozesses\n",
    "rv    = pp*np.random.rand(n)-pp/2\n",
    "# Erzeugen des x-Vektors\n",
    "x     = np.arange(xStart, xStop, x_stepwidth)\n",
    "print('Size  of x  = ', x.size)\n",
    "print('Shape of x  = ', x.shape)\n",
    "\n",
    "# Erzeugen des rauschfreien polynomalen Prozesses yTrue.\n",
    "yTrue  = 0.14*x**3 -1.0*x**2 +1.8*x - 2\n",
    "# Verrauschen des Prozesses\n",
    "yNoise = rv + yTrue\n",
    "print('Size  of yNoise = ', yNoise.size)\n",
    "print('Shape of Noise  = ', yNoise.shape)\n",
    "\n",
    "# Prozess und verrauschten Prozess anzeigen.\n",
    "plt.scatter(x, yNoise, s=3,  color='black', label='verrauschte Daten')\n",
    "plt.plot(   x, yTrue, 'red', label='rauschfreier Prozess')\n",
    "plt.grid()\n",
    "plt.legend(numpoints=None)"
   ]
  },
  {
   "cell_type": "markdown",
   "metadata": {},
   "source": [
    "# Teilaufgabe 1:   Ausgleichsgerade y=ax+b berechnen"
   ]
  },
  {
   "cell_type": "code",
   "execution_count": 6,
   "metadata": {},
   "outputs": [
    {
     "name": "stdout",
     "output_type": "stream",
     "text": [
      "shape A_T = (2, 40)\n",
      "A_T       =\n",
      " [[0.   0.15 0.3  0.45 0.6  0.75 0.9  1.05 1.2  1.35 1.5  1.65 1.8  1.95\n",
      "  2.1  2.25 2.4  2.55 2.7  2.85 3.   3.15 3.3  3.45 3.6  3.75 3.9  4.05\n",
      "  4.2  4.35 4.5  4.65 4.8  4.95 5.1  5.25 5.4  5.55 5.7  5.85]\n",
      " [1.   1.   1.   1.   1.   1.   1.   1.   1.   1.   1.   1.   1.   1.\n",
      "  1.   1.   1.   1.   1.   1.   1.   1.   1.   1.   1.   1.   1.   1.\n",
      "  1.   1.   1.   1.   1.   1.   1.   1.   1.   1.   1.   1.  ]]\n",
      "\n",
      "shape A = (40, 2)\n",
      "A       =\n",
      " [[0.   1.  ]\n",
      " [0.15 1.  ]\n",
      " [0.3  1.  ]\n",
      " [0.45 1.  ]\n",
      " [0.6  1.  ]\n",
      " [0.75 1.  ]\n",
      " [0.9  1.  ]\n",
      " [1.05 1.  ]\n",
      " [1.2  1.  ]\n",
      " [1.35 1.  ]\n",
      " [1.5  1.  ]\n",
      " [1.65 1.  ]\n",
      " [1.8  1.  ]\n",
      " [1.95 1.  ]\n",
      " [2.1  1.  ]\n",
      " [2.25 1.  ]\n",
      " [2.4  1.  ]\n",
      " [2.55 1.  ]\n",
      " [2.7  1.  ]\n",
      " [2.85 1.  ]\n",
      " [3.   1.  ]\n",
      " [3.15 1.  ]\n",
      " [3.3  1.  ]\n",
      " [3.45 1.  ]\n",
      " [3.6  1.  ]\n",
      " [3.75 1.  ]\n",
      " [3.9  1.  ]\n",
      " [4.05 1.  ]\n",
      " [4.2  1.  ]\n",
      " [4.35 1.  ]\n",
      " [4.5  1.  ]\n",
      " [4.65 1.  ]\n",
      " [4.8  1.  ]\n",
      " [4.95 1.  ]\n",
      " [5.1  1.  ]\n",
      " [5.25 1.  ]\n",
      " [5.4  1.  ]\n",
      " [5.55 1.  ]\n",
      " [5.7  1.  ]\n",
      " [5.85 1.  ]]\n",
      "Lösung  pLin = [ 0.29006561 -2.03793567]\n"
     ]
    }
   ],
   "source": [
    "# Parameter a und b der Ausgleichsgerade yLin=ax+b berechnen\n",
    "# -------------------------------------------------------\n",
    "# Erzeugen einer Matrix A \n",
    "# (aus Vektoren) : pro Zeile ein Vektor\n",
    "\n",
    "V1 = np.ones(40)  # shape: (3,)\n",
    "A_T = np.array([x,V1])\n",
    "print('shape A_T =', A_T.shape) \n",
    "print('A_T       =\\n', A_T) \n",
    "print()\n",
    "# pro Spalte ein Vektor\n",
    "A = np.transpose(A_T)\n",
    "\n",
    "# 2. shape von Matrix A anzeigen und kontrollieren\n",
    "print('shape A =', A.shape) \n",
    "print('A       =\\n', A)\n",
    "\n",
    "# 3. Die Parameter pLin=[a,b] der Gerade durch Ausgleichung \n",
    "#   A_T * A * pLin = A_T * y_Noise bestimmen.\n",
    "pLin = np.linalg.solve(np.dot(A_T,A), np.dot(A_T,yNoise)) \n",
    "print('Lösung  pLin =',  pLin)\n",
    "# Hier geht es los ........."
   ]
  },
  {
   "cell_type": "code",
   "execution_count": 7,
   "metadata": {},
   "outputs": [
    {
     "name": "stdout",
     "output_type": "stream",
     "text": [
      "shape yLin = (40,)\n",
      "yLin       =\n",
      " [-2.03793567 -1.99442583 -1.95091598 -1.90740614 -1.8638963  -1.82038646\n",
      " -1.77687661 -1.73336677 -1.68985693 -1.64634709 -1.60283725 -1.5593274\n",
      " -1.51581756 -1.47230772 -1.42879788 -1.38528804 -1.34177819 -1.29826835\n",
      " -1.25475851 -1.21124867 -1.16773883 -1.12422898 -1.08071914 -1.0372093\n",
      " -0.99369946 -0.95018962 -0.90667977 -0.86316993 -0.81966009 -0.77615025\n",
      " -0.73264041 -0.68913056 -0.64562072 -0.60211088 -0.55860104 -0.5150912\n",
      " -0.47158135 -0.42807151 -0.38456167 -0.34105183]\n"
     ]
    }
   ],
   "source": [
    "# 1. Alle Punkte yLin der Ausgleichsgerade yLin=ax+b berechnen\n",
    "yLin = pLin[0]*x+pLin[1]\n",
    "# 2. shape der berechneten Punkte yLin ausgeben und kontrollieren \n",
    "print('shape yLin =', yLin.shape) \n",
    "print('yLin       =\\n', yLin)\n",
    "\n",
    "\n",
    "# Hier geht es los ........."
   ]
  },
  {
   "cell_type": "code",
   "execution_count": 8,
   "metadata": {},
   "outputs": [
    {
     "data": {
      "text/plain": [
       "<matplotlib.legend.Legend at 0x205fba38788>"
      ]
     },
     "execution_count": 8,
     "metadata": {},
     "output_type": "execute_result"
    },
    {
     "data": {
      "image/png": "[encoded data removed]",
      "text/plain": [
       "<Figure size 432x288 with 1 Axes>"
      ]
     },
     "metadata": {
      "needs_background": "light"
     },
     "output_type": "display_data"
    }
   ],
   "source": [
    "# Ergebnis mit Legende plotten\n",
    "# a) verrauschte Daten (schwarz), \n",
    "plt.scatter(x, yNoise, s=3,  color='black', label='verrauschte Daten')\n",
    "# b) rauschfreier Prozess (rot) \n",
    "plt.plot(   x, yTrue, 'red', label='rauschfreier Prozess')\n",
    "plt.grid()\n",
    "plt.legend(numpoints=None)\n",
    "\n",
    "\n",
    "# c) Ausgleichsgerade yLin (grün)\n",
    "plt.plot(x, yLin, 'green', label='Ausgleichsgerade')\n",
    "plt.grid()\n",
    "plt.legend(numpoints=None)\n",
    "\n",
    "\n",
    "# Hier geht es los ........."
   ]
  },
  {
   "cell_type": "markdown",
   "metadata": {},
   "source": [
    "# Teilaufgabe 2:   Ausgleichspolynom 3. Grades berechnen \n",
    "(= Kubische Funktion)"
   ]
  },
  {
   "cell_type": "code",
   "execution_count": 9,
   "metadata": {},
   "outputs": [
    {
     "name": "stdout",
     "output_type": "stream",
     "text": [
      "shape A_T = (4, 40)\n",
      "A_T       =\n",
      " [[0.00000000e+00 3.37500000e-03 2.70000000e-02 9.11250000e-02\n",
      "  2.16000000e-01 4.21875000e-01 7.29000000e-01 1.15762500e+00\n",
      "  1.72800000e+00 2.46037500e+00 3.37500000e+00 4.49212500e+00\n",
      "  5.83200000e+00 7.41487500e+00 9.26100000e+00 1.13906250e+01\n",
      "  1.38240000e+01 1.65813750e+01 1.96830000e+01 2.31491250e+01\n",
      "  2.70000000e+01 3.12558750e+01 3.59370000e+01 4.10636250e+01\n",
      "  4.66560000e+01 5.27343750e+01 5.93190000e+01 6.64301250e+01\n",
      "  7.40880000e+01 8.23128750e+01 9.11250000e+01 1.00544625e+02\n",
      "  1.10592000e+02 1.21287375e+02 1.32651000e+02 1.44703125e+02\n",
      "  1.57464000e+02 1.70953875e+02 1.85193000e+02 2.00201625e+02]\n",
      " [0.00000000e+00 2.25000000e-02 9.00000000e-02 2.02500000e-01\n",
      "  3.60000000e-01 5.62500000e-01 8.10000000e-01 1.10250000e+00\n",
      "  1.44000000e+00 1.82250000e+00 2.25000000e+00 2.72250000e+00\n",
      "  3.24000000e+00 3.80250000e+00 4.41000000e+00 5.06250000e+00\n",
      "  5.76000000e+00 6.50250000e+00 7.29000000e+00 8.12250000e+00\n",
      "  9.00000000e+00 9.92250000e+00 1.08900000e+01 1.19025000e+01\n",
      "  1.29600000e+01 1.40625000e+01 1.52100000e+01 1.64025000e+01\n",
      "  1.76400000e+01 1.89225000e+01 2.02500000e+01 2.16225000e+01\n",
      "  2.30400000e+01 2.45025000e+01 2.60100000e+01 2.75625000e+01\n",
      "  2.91600000e+01 3.08025000e+01 3.24900000e+01 3.42225000e+01]\n",
      " [0.00000000e+00 1.50000000e-01 3.00000000e-01 4.50000000e-01\n",
      "  6.00000000e-01 7.50000000e-01 9.00000000e-01 1.05000000e+00\n",
      "  1.20000000e+00 1.35000000e+00 1.50000000e+00 1.65000000e+00\n",
      "  1.80000000e+00 1.95000000e+00 2.10000000e+00 2.25000000e+00\n",
      "  2.40000000e+00 2.55000000e+00 2.70000000e+00 2.85000000e+00\n",
      "  3.00000000e+00 3.15000000e+00 3.30000000e+00 3.45000000e+00\n",
      "  3.60000000e+00 3.75000000e+00 3.90000000e+00 4.05000000e+00\n",
      "  4.20000000e+00 4.35000000e+00 4.50000000e+00 4.65000000e+00\n",
      "  4.80000000e+00 4.95000000e+00 5.10000000e+00 5.25000000e+00\n",
      "  5.40000000e+00 5.55000000e+00 5.70000000e+00 5.85000000e+00]\n",
      " [1.00000000e+00 1.00000000e+00 1.00000000e+00 1.00000000e+00\n",
      "  1.00000000e+00 1.00000000e+00 1.00000000e+00 1.00000000e+00\n",
      "  1.00000000e+00 1.00000000e+00 1.00000000e+00 1.00000000e+00\n",
      "  1.00000000e+00 1.00000000e+00 1.00000000e+00 1.00000000e+00\n",
      "  1.00000000e+00 1.00000000e+00 1.00000000e+00 1.00000000e+00\n",
      "  1.00000000e+00 1.00000000e+00 1.00000000e+00 1.00000000e+00\n",
      "  1.00000000e+00 1.00000000e+00 1.00000000e+00 1.00000000e+00\n",
      "  1.00000000e+00 1.00000000e+00 1.00000000e+00 1.00000000e+00\n",
      "  1.00000000e+00 1.00000000e+00 1.00000000e+00 1.00000000e+00\n",
      "  1.00000000e+00 1.00000000e+00 1.00000000e+00 1.00000000e+00]]\n",
      "\n",
      "shape A = (40, 4)\n",
      "A       =\n",
      " [[0.00000000e+00 0.00000000e+00 0.00000000e+00 1.00000000e+00]\n",
      " [3.37500000e-03 2.25000000e-02 1.50000000e-01 1.00000000e+00]\n",
      " [2.70000000e-02 9.00000000e-02 3.00000000e-01 1.00000000e+00]\n",
      " [9.11250000e-02 2.02500000e-01 4.50000000e-01 1.00000000e+00]\n",
      " [2.16000000e-01 3.60000000e-01 6.00000000e-01 1.00000000e+00]\n",
      " [4.21875000e-01 5.62500000e-01 7.50000000e-01 1.00000000e+00]\n",
      " [7.29000000e-01 8.10000000e-01 9.00000000e-01 1.00000000e+00]\n",
      " [1.15762500e+00 1.10250000e+00 1.05000000e+00 1.00000000e+00]\n",
      " [1.72800000e+00 1.44000000e+00 1.20000000e+00 1.00000000e+00]\n",
      " [2.46037500e+00 1.82250000e+00 1.35000000e+00 1.00000000e+00]\n",
      " [3.37500000e+00 2.25000000e+00 1.50000000e+00 1.00000000e+00]\n",
      " [4.49212500e+00 2.72250000e+00 1.65000000e+00 1.00000000e+00]\n",
      " [5.83200000e+00 3.24000000e+00 1.80000000e+00 1.00000000e+00]\n",
      " [7.41487500e+00 3.80250000e+00 1.95000000e+00 1.00000000e+00]\n",
      " [9.26100000e+00 4.41000000e+00 2.10000000e+00 1.00000000e+00]\n",
      " [1.13906250e+01 5.06250000e+00 2.25000000e+00 1.00000000e+00]\n",
      " [1.38240000e+01 5.76000000e+00 2.40000000e+00 1.00000000e+00]\n",
      " [1.65813750e+01 6.50250000e+00 2.55000000e+00 1.00000000e+00]\n",
      " [1.96830000e+01 7.29000000e+00 2.70000000e+00 1.00000000e+00]\n",
      " [2.31491250e+01 8.12250000e+00 2.85000000e+00 1.00000000e+00]\n",
      " [2.70000000e+01 9.00000000e+00 3.00000000e+00 1.00000000e+00]\n",
      " [3.12558750e+01 9.92250000e+00 3.15000000e+00 1.00000000e+00]\n",
      " [3.59370000e+01 1.08900000e+01 3.30000000e+00 1.00000000e+00]\n",
      " [4.10636250e+01 1.19025000e+01 3.45000000e+00 1.00000000e+00]\n",
      " [4.66560000e+01 1.29600000e+01 3.60000000e+00 1.00000000e+00]\n",
      " [5.27343750e+01 1.40625000e+01 3.75000000e+00 1.00000000e+00]\n",
      " [5.93190000e+01 1.52100000e+01 3.90000000e+00 1.00000000e+00]\n",
      " [6.64301250e+01 1.64025000e+01 4.05000000e+00 1.00000000e+00]\n",
      " [7.40880000e+01 1.76400000e+01 4.20000000e+00 1.00000000e+00]\n",
      " [8.23128750e+01 1.89225000e+01 4.35000000e+00 1.00000000e+00]\n",
      " [9.11250000e+01 2.02500000e+01 4.50000000e+00 1.00000000e+00]\n",
      " [1.00544625e+02 2.16225000e+01 4.65000000e+00 1.00000000e+00]\n",
      " [1.10592000e+02 2.30400000e+01 4.80000000e+00 1.00000000e+00]\n",
      " [1.21287375e+02 2.45025000e+01 4.95000000e+00 1.00000000e+00]\n",
      " [1.32651000e+02 2.60100000e+01 5.10000000e+00 1.00000000e+00]\n",
      " [1.44703125e+02 2.75625000e+01 5.25000000e+00 1.00000000e+00]\n",
      " [1.57464000e+02 2.91600000e+01 5.40000000e+00 1.00000000e+00]\n",
      " [1.70953875e+02 3.08025000e+01 5.55000000e+00 1.00000000e+00]\n",
      " [1.85193000e+02 3.24900000e+01 5.70000000e+00 1.00000000e+00]\n",
      " [2.00201625e+02 3.42225000e+01 5.85000000e+00 1.00000000e+00]]\n",
      "Lösung  pKub = [ 0.13380034 -0.90637934  1.43667989 -1.78817549]\n"
     ]
    }
   ],
   "source": [
    "# Die Parameter p3, p2, p1, p0 des Ausgleichspolynoms \n",
    "# yKub = p3*x**3 + p2*x**2 + p1*x + p0 berechnen\n",
    "# -------------------------------------------------------\n",
    "# 1. A-Matrix aufstellen\n",
    "V1 = np.ones(40)  # shape: (3,)\n",
    "A_T = np.array([x*x*x,x*x,x,V1])\n",
    "print('shape A_T =', A_T.shape) \n",
    "print('A_T       =\\n', A_T) \n",
    "print()\n",
    "# pro Spalte ein Vektor\n",
    "A = np.transpose(A_T)\n",
    "\n",
    "# 2. shape von Matrix A anzeigen und kontrollieren\n",
    "print('shape A =', A.shape) \n",
    "print('A       =\\n', A)\n",
    "\n",
    "# 3. Die Parameter pKub=[p3, p2, p1, p0] der Gerade durch Ausgleichung \n",
    "#   A_T * A * pKub = A_T * y_Noise bestimmen.\n",
    "\n",
    "pKub = np.linalg.solve(np.dot(A_T,A), np.dot(A_T,yNoise)) \n",
    "print('Lösung  pKub =',  pKub)\n",
    "\n",
    "\n",
    "\n",
    "# Hier geht es los ........."
   ]
  },
  {
   "cell_type": "code",
   "execution_count": 10,
   "metadata": {},
   "outputs": [
    {
     "name": "stdout",
     "output_type": "stream",
     "text": [
      "shape yKub = (40,)\n",
      "yKub       =\n",
      " [-1.78817549 -1.59261547 -1.43513306 -1.3130188  -1.22356325 -1.16405694\n",
      " -1.13179041 -1.12405421 -1.13813889 -1.17133497 -1.22093302 -1.28422357\n",
      " -1.35849716 -1.44104433 -1.52915564 -1.62012162 -1.71123282 -1.79977977\n",
      " -1.88305303 -1.95834313 -2.02294062 -2.07413605 -2.10921994 -2.12548286\n",
      " -2.12021533 -2.09070791 -2.03425113 -1.94813554 -1.82965169 -1.67609011\n",
      " -1.48474135 -1.25289595 -0.97784446 -0.65687741 -0.28728535  0.13364117\n",
      "  0.60861162  1.14033544  1.7315221   2.38488106]\n"
     ]
    }
   ],
   "source": [
    "# 1. Alle Punkte yKub des Ausgleichspolynoms yKub = p3*x**3 + p2*x**2 + p1*x + p0 berechnen\n",
    "yKub = pKub[0]*x**3 + pKub[1]*x**2 + pKub[2]*x + pKub[3]\n",
    "# 2. shape der berechneten Punkte y ausgeben und kontrollieren \n",
    "print('shape yKub =', yKub.shape) \n",
    "print('yKub       =\\n', yKub)\n",
    "\n",
    "\n",
    "\n",
    "# Hier geht es los ........."
   ]
  },
  {
   "cell_type": "code",
   "execution_count": 11,
   "metadata": {},
   "outputs": [
    {
     "data": {
      "text/plain": [
       "<matplotlib.legend.Legend at 0x205fbac21c8>"
      ]
     },
     "execution_count": 11,
     "metadata": {},
     "output_type": "execute_result"
    },
    {
     "data": {
      "image/png": "[encoded data removed]",
      "text/plain": [
       "<Figure size 432x288 with 1 Axes>"
      ]
     },
     "metadata": {
      "needs_background": "light"
     },
     "output_type": "display_data"
    }
   ],
   "source": [
    "# Ergebnis mit Legende plotten\n",
    "# Ergebnis mit Legende plotten\n",
    "# a) verrauschte Daten (schwarz), \n",
    "plt.scatter(x, yNoise, s=3,  color='black', label='verrauschte Daten')\n",
    "# b) rauschfreier Prozess (rot) \n",
    "plt.plot(   x, yTrue, 'red', label='rauschfreier Prozess')\n",
    "plt.grid()\n",
    "plt.legend(numpoints=None)\n",
    "\n",
    "\n",
    "# c) Ausgleichsgerade yLin (grün)\n",
    "plt.plot(x, yLin, 'green', label='Ausgleichsgerade')\n",
    "plt.grid()\n",
    "plt.legend(numpoints=None)\n",
    "# c) Kub. Ausgleichspolynom (orange)\n",
    "plt.plot(x, yKub, 'orange', label='Kub. Ausgleichspolynom ')\n",
    "plt.grid()\n",
    "plt.legend(numpoints=None)\n",
    "\n",
    "# Hier geht es los ........."
   ]
  },
  {
   "cell_type": "markdown",
   "metadata": {},
   "source": [
    "# Teilaufgabe 3:   Ausgleichspolynom 9. Grades berechnen "
   ]
  },
  {
   "cell_type": "code",
   "execution_count": 12,
   "metadata": {},
   "outputs": [
    {
     "name": "stdout",
     "output_type": "stream",
     "text": [
      "shape A_T = (10, 40)\n",
      "A_T       =\n",
      " [[0.00000000e+00 3.84433594e-08 1.96830000e-05 7.56680643e-04\n",
      "  1.00776960e-02 7.50846863e-02 3.87420489e-01 1.55132822e+00\n",
      "  5.15978035e+00 1.48937451e+01 3.84433594e+01 9.06474305e+01\n",
      "  1.98359290e+02 4.07672580e+02 7.94280047e+02 1.47789188e+03\n",
      "  2.64180754e+03 4.55891635e+03 7.62559748e+03 1.24051991e+04\n",
      "  1.96830000e+04 3.05347933e+04 4.64114844e+04 6.92423591e+04\n",
      "  1.01559957e+05 1.46649778e+05 2.08728361e+05 2.93153585e+05\n",
      "  4.06671384e+05 5.57703426e+05 7.56680643e+05 1.01642790e+06\n",
      "  1.35260546e+06 1.78421337e+06 2.33416517e+06 3.02993792e+06\n",
      "  3.90430591e+06 4.99616587e+06 6.35146196e+06 8.02421940e+06]\n",
      " [0.00000000e+00 2.56289062e-07 6.56100000e-05 1.68151254e-03\n",
      "  1.67961600e-02 1.00112915e-01 4.30467210e-01 1.47745544e+00\n",
      "  4.29981696e+00 1.10324038e+01 2.56289062e+01 5.49378367e+01\n",
      "  1.10199606e+02 2.09062862e+02 3.78228594e+02 6.56840836e+02\n",
      "  1.10075314e+03 1.78781033e+03 2.82429536e+03 4.35270145e+03\n",
      "  6.56100000e+03 9.69358517e+03 1.40640862e+04 2.00702490e+04\n",
      "  2.82110991e+04 3.91066074e+04 5.35200926e+04 7.23836011e+04\n",
      "  9.68265200e+04 1.28207684e+05 1.68151254e+05 2.18586644e+05\n",
      "  2.81792804e+05 3.60447146e+05 4.57679446e+05 5.77131033e+05\n",
      "  7.23019613e+05 9.00210066e+05 1.11429157e+06 1.37166144e+06]\n",
      " [0.00000000e+00 1.70859375e-06 2.18700000e-04 3.73669453e-03\n",
      "  2.79936000e-02 1.33483887e-01 4.78296900e-01 1.40710042e+00\n",
      "  3.58318080e+00 8.17215094e+00 1.70859375e+01 3.32956586e+01\n",
      "  6.12220032e+01 1.07211724e+02 1.80108854e+02 2.91929260e+02\n",
      "  4.58647142e+02 7.01102092e+02 1.04603532e+03 1.52726367e+03\n",
      "  2.18700000e+03 3.07732862e+03 4.26184430e+03 5.81746348e+03\n",
      "  7.83641641e+03 1.04284286e+04 1.37231007e+04 1.78724941e+04\n",
      "  2.30539333e+04 2.94730308e+04 3.73669453e+04 4.70078805e+04\n",
      "  5.87068342e+04 7.28176053e+04 8.97410678e+04 1.09929721e+05\n",
      "  1.33892521e+05 1.62200012e+05 1.95489749e+05 2.34472040e+05]\n",
      " [0.00000000e+00 1.13906250e-05 7.29000000e-04 8.30376562e-03\n",
      "  4.66560000e-02 1.77978516e-01 5.31441000e-01 1.34009564e+00\n",
      "  2.98598400e+00 6.05344514e+00 1.13906250e+01 2.01791870e+01\n",
      "  3.40122240e+01 5.49803713e+01 8.57661210e+01 1.29746338e+02\n",
      "  1.91102976e+02 2.74941997e+02 3.87420489e+02 5.35881988e+02\n",
      "  7.29000000e+02 9.76929722e+02 1.29146797e+03 1.68622130e+03\n",
      "  2.17678234e+03 2.78091431e+03 3.51874376e+03 4.41296151e+03\n",
      "  5.48903174e+03 6.77540939e+03 8.30376562e+03 1.01092216e+04\n",
      "  1.22305905e+04 1.47106273e+04 1.75962878e+04 2.09389944e+04\n",
      "  2.47949113e+04 2.92252274e+04 3.42964472e+04 4.00806907e+04]\n",
      " [0.00000000e+00 7.59375000e-05 2.43000000e-03 1.84528125e-02\n",
      "  7.77600000e-02 2.37304688e-01 5.90490000e-01 1.27628156e+00\n",
      "  2.48832000e+00 4.48403344e+00 7.59375000e+00 1.22298103e+01\n",
      "  1.88956800e+01 2.81950622e+01 4.08410100e+01 5.76650391e+01\n",
      "  7.96262400e+01 1.07820391e+02 1.43489070e+02 1.88028768e+02\n",
      "  2.43000000e+02 3.10136420e+02 3.91353930e+02 4.88759797e+02\n",
      "  6.04661760e+02 7.41577148e+02 9.02241990e+02 1.08962013e+03\n",
      "  1.30691232e+03 1.55756538e+03 1.84528125e+03 2.17402615e+03\n",
      "  2.54803968e+03 2.97184391e+03 3.45025251e+03 3.98837988e+03\n",
      "  4.59165024e+03 5.26580673e+03 6.01692057e+03 6.85140011e+03]\n",
      " [0.00000000e+00 5.06250000e-04 8.10000000e-03 4.10062500e-02\n",
      "  1.29600000e-01 3.16406250e-01 6.56100000e-01 1.21550625e+00\n",
      "  2.07360000e+00 3.32150625e+00 5.06250000e+00 7.41200625e+00\n",
      "  1.04976000e+01 1.44590062e+01 1.94481000e+01 2.56289062e+01\n",
      "  3.31776000e+01 4.22825062e+01 5.31441000e+01 6.59750063e+01\n",
      "  8.10000000e+01 9.84560062e+01 1.18592100e+02 1.41669506e+02\n",
      "  1.67961600e+02 1.97753906e+02 2.31344100e+02 2.69042006e+02\n",
      "  3.11169600e+02 3.58061006e+02 4.10062500e+02 4.67532506e+02\n",
      "  5.30841600e+02 6.00372506e+02 6.76520100e+02 7.59691406e+02\n",
      "  8.50305600e+02 9.48794006e+02 1.05560010e+03 1.17117951e+03]\n",
      " [0.00000000e+00 3.37500000e-03 2.70000000e-02 9.11250000e-02\n",
      "  2.16000000e-01 4.21875000e-01 7.29000000e-01 1.15762500e+00\n",
      "  1.72800000e+00 2.46037500e+00 3.37500000e+00 4.49212500e+00\n",
      "  5.83200000e+00 7.41487500e+00 9.26100000e+00 1.13906250e+01\n",
      "  1.38240000e+01 1.65813750e+01 1.96830000e+01 2.31491250e+01\n",
      "  2.70000000e+01 3.12558750e+01 3.59370000e+01 4.10636250e+01\n",
      "  4.66560000e+01 5.27343750e+01 5.93190000e+01 6.64301250e+01\n",
      "  7.40880000e+01 8.23128750e+01 9.11250000e+01 1.00544625e+02\n",
      "  1.10592000e+02 1.21287375e+02 1.32651000e+02 1.44703125e+02\n",
      "  1.57464000e+02 1.70953875e+02 1.85193000e+02 2.00201625e+02]\n",
      " [0.00000000e+00 2.25000000e-02 9.00000000e-02 2.02500000e-01\n",
      "  3.60000000e-01 5.62500000e-01 8.10000000e-01 1.10250000e+00\n",
      "  1.44000000e+00 1.82250000e+00 2.25000000e+00 2.72250000e+00\n",
      "  3.24000000e+00 3.80250000e+00 4.41000000e+00 5.06250000e+00\n",
      "  5.76000000e+00 6.50250000e+00 7.29000000e+00 8.12250000e+00\n",
      "  9.00000000e+00 9.92250000e+00 1.08900000e+01 1.19025000e+01\n",
      "  1.29600000e+01 1.40625000e+01 1.52100000e+01 1.64025000e+01\n",
      "  1.76400000e+01 1.89225000e+01 2.02500000e+01 2.16225000e+01\n",
      "  2.30400000e+01 2.45025000e+01 2.60100000e+01 2.75625000e+01\n",
      "  2.91600000e+01 3.08025000e+01 3.24900000e+01 3.42225000e+01]\n",
      " [0.00000000e+00 1.50000000e-01 3.00000000e-01 4.50000000e-01\n",
      "  6.00000000e-01 7.50000000e-01 9.00000000e-01 1.05000000e+00\n",
      "  1.20000000e+00 1.35000000e+00 1.50000000e+00 1.65000000e+00\n",
      "  1.80000000e+00 1.95000000e+00 2.10000000e+00 2.25000000e+00\n",
      "  2.40000000e+00 2.55000000e+00 2.70000000e+00 2.85000000e+00\n",
      "  3.00000000e+00 3.15000000e+00 3.30000000e+00 3.45000000e+00\n",
      "  3.60000000e+00 3.75000000e+00 3.90000000e+00 4.05000000e+00\n",
      "  4.20000000e+00 4.35000000e+00 4.50000000e+00 4.65000000e+00\n",
      "  4.80000000e+00 4.95000000e+00 5.10000000e+00 5.25000000e+00\n",
      "  5.40000000e+00 5.55000000e+00 5.70000000e+00 5.85000000e+00]\n",
      " [1.00000000e+00 1.00000000e+00 1.00000000e+00 1.00000000e+00\n",
      "  1.00000000e+00 1.00000000e+00 1.00000000e+00 1.00000000e+00\n",
      "  1.00000000e+00 1.00000000e+00 1.00000000e+00 1.00000000e+00\n",
      "  1.00000000e+00 1.00000000e+00 1.00000000e+00 1.00000000e+00\n",
      "  1.00000000e+00 1.00000000e+00 1.00000000e+00 1.00000000e+00\n",
      "  1.00000000e+00 1.00000000e+00 1.00000000e+00 1.00000000e+00\n",
      "  1.00000000e+00 1.00000000e+00 1.00000000e+00 1.00000000e+00\n",
      "  1.00000000e+00 1.00000000e+00 1.00000000e+00 1.00000000e+00\n",
      "  1.00000000e+00 1.00000000e+00 1.00000000e+00 1.00000000e+00\n",
      "  1.00000000e+00 1.00000000e+00 1.00000000e+00 1.00000000e+00]]\n",
      "\n",
      "shape A = (40, 10)\n",
      "A       =\n",
      " [[0.00000000e+00 0.00000000e+00 0.00000000e+00 0.00000000e+00\n",
      "  0.00000000e+00 0.00000000e+00 0.00000000e+00 0.00000000e+00\n",
      "  0.00000000e+00 1.00000000e+00]\n",
      " [3.84433594e-08 2.56289062e-07 1.70859375e-06 1.13906250e-05\n",
      "  7.59375000e-05 5.06250000e-04 3.37500000e-03 2.25000000e-02\n",
      "  1.50000000e-01 1.00000000e+00]\n",
      " [1.96830000e-05 6.56100000e-05 2.18700000e-04 7.29000000e-04\n",
      "  2.43000000e-03 8.10000000e-03 2.70000000e-02 9.00000000e-02\n",
      "  3.00000000e-01 1.00000000e+00]\n",
      " [7.56680643e-04 1.68151254e-03 3.73669453e-03 8.30376562e-03\n",
      "  1.84528125e-02 4.10062500e-02 9.11250000e-02 2.02500000e-01\n",
      "  4.50000000e-01 1.00000000e+00]\n",
      " [1.00776960e-02 1.67961600e-02 2.79936000e-02 4.66560000e-02\n",
      "  7.77600000e-02 1.29600000e-01 2.16000000e-01 3.60000000e-01\n",
      "  6.00000000e-01 1.00000000e+00]\n",
      " [7.50846863e-02 1.00112915e-01 1.33483887e-01 1.77978516e-01\n",
      "  2.37304688e-01 3.16406250e-01 4.21875000e-01 5.62500000e-01\n",
      "  7.50000000e-01 1.00000000e+00]\n",
      " [3.87420489e-01 4.30467210e-01 4.78296900e-01 5.31441000e-01\n",
      "  5.90490000e-01 6.56100000e-01 7.29000000e-01 8.10000000e-01\n",
      "  9.00000000e-01 1.00000000e+00]\n",
      " [1.55132822e+00 1.47745544e+00 1.40710042e+00 1.34009564e+00\n",
      "  1.27628156e+00 1.21550625e+00 1.15762500e+00 1.10250000e+00\n",
      "  1.05000000e+00 1.00000000e+00]\n",
      " [5.15978035e+00 4.29981696e+00 3.58318080e+00 2.98598400e+00\n",
      "  2.48832000e+00 2.07360000e+00 1.72800000e+00 1.44000000e+00\n",
      "  1.20000000e+00 1.00000000e+00]\n",
      " [1.48937451e+01 1.10324038e+01 8.17215094e+00 6.05344514e+00\n",
      "  4.48403344e+00 3.32150625e+00 2.46037500e+00 1.82250000e+00\n",
      "  1.35000000e+00 1.00000000e+00]\n",
      " [3.84433594e+01 2.56289062e+01 1.70859375e+01 1.13906250e+01\n",
      "  7.59375000e+00 5.06250000e+00 3.37500000e+00 2.25000000e+00\n",
      "  1.50000000e+00 1.00000000e+00]\n",
      " [9.06474305e+01 5.49378367e+01 3.32956586e+01 2.01791870e+01\n",
      "  1.22298103e+01 7.41200625e+00 4.49212500e+00 2.72250000e+00\n",
      "  1.65000000e+00 1.00000000e+00]\n",
      " [1.98359290e+02 1.10199606e+02 6.12220032e+01 3.40122240e+01\n",
      "  1.88956800e+01 1.04976000e+01 5.83200000e+00 3.24000000e+00\n",
      "  1.80000000e+00 1.00000000e+00]\n",
      " [4.07672580e+02 2.09062862e+02 1.07211724e+02 5.49803713e+01\n",
      "  2.81950622e+01 1.44590062e+01 7.41487500e+00 3.80250000e+00\n",
      "  1.95000000e+00 1.00000000e+00]\n",
      " [7.94280047e+02 3.78228594e+02 1.80108854e+02 8.57661210e+01\n",
      "  4.08410100e+01 1.94481000e+01 9.26100000e+00 4.41000000e+00\n",
      "  2.10000000e+00 1.00000000e+00]\n",
      " [1.47789188e+03 6.56840836e+02 2.91929260e+02 1.29746338e+02\n",
      "  5.76650391e+01 2.56289062e+01 1.13906250e+01 5.06250000e+00\n",
      "  2.25000000e+00 1.00000000e+00]\n",
      " [2.64180754e+03 1.10075314e+03 4.58647142e+02 1.91102976e+02\n",
      "  7.96262400e+01 3.31776000e+01 1.38240000e+01 5.76000000e+00\n",
      "  2.40000000e+00 1.00000000e+00]\n",
      " [4.55891635e+03 1.78781033e+03 7.01102092e+02 2.74941997e+02\n",
      "  1.07820391e+02 4.22825062e+01 1.65813750e+01 6.50250000e+00\n",
      "  2.55000000e+00 1.00000000e+00]\n",
      " [7.62559748e+03 2.82429536e+03 1.04603532e+03 3.87420489e+02\n",
      "  1.43489070e+02 5.31441000e+01 1.96830000e+01 7.29000000e+00\n",
      "  2.70000000e+00 1.00000000e+00]\n",
      " [1.24051991e+04 4.35270145e+03 1.52726367e+03 5.35881988e+02\n",
      "  1.88028768e+02 6.59750063e+01 2.31491250e+01 8.12250000e+00\n",
      "  2.85000000e+00 1.00000000e+00]\n",
      " [1.96830000e+04 6.56100000e+03 2.18700000e+03 7.29000000e+02\n",
      "  2.43000000e+02 8.10000000e+01 2.70000000e+01 9.00000000e+00\n",
      "  3.00000000e+00 1.00000000e+00]\n",
      " [3.05347933e+04 9.69358517e+03 3.07732862e+03 9.76929722e+02\n",
      "  3.10136420e+02 9.84560062e+01 3.12558750e+01 9.92250000e+00\n",
      "  3.15000000e+00 1.00000000e+00]\n",
      " [4.64114844e+04 1.40640862e+04 4.26184430e+03 1.29146797e+03\n",
      "  3.91353930e+02 1.18592100e+02 3.59370000e+01 1.08900000e+01\n",
      "  3.30000000e+00 1.00000000e+00]\n",
      " [6.92423591e+04 2.00702490e+04 5.81746348e+03 1.68622130e+03\n",
      "  4.88759797e+02 1.41669506e+02 4.10636250e+01 1.19025000e+01\n",
      "  3.45000000e+00 1.00000000e+00]\n",
      " [1.01559957e+05 2.82110991e+04 7.83641641e+03 2.17678234e+03\n",
      "  6.04661760e+02 1.67961600e+02 4.66560000e+01 1.29600000e+01\n",
      "  3.60000000e+00 1.00000000e+00]\n",
      " [1.46649778e+05 3.91066074e+04 1.04284286e+04 2.78091431e+03\n",
      "  7.41577148e+02 1.97753906e+02 5.27343750e+01 1.40625000e+01\n",
      "  3.75000000e+00 1.00000000e+00]\n",
      " [2.08728361e+05 5.35200926e+04 1.37231007e+04 3.51874376e+03\n",
      "  9.02241990e+02 2.31344100e+02 5.93190000e+01 1.52100000e+01\n",
      "  3.90000000e+00 1.00000000e+00]\n",
      " [2.93153585e+05 7.23836011e+04 1.78724941e+04 4.41296151e+03\n",
      "  1.08962013e+03 2.69042006e+02 6.64301250e+01 1.64025000e+01\n",
      "  4.05000000e+00 1.00000000e+00]\n",
      " [4.06671384e+05 9.68265200e+04 2.30539333e+04 5.48903174e+03\n",
      "  1.30691232e+03 3.11169600e+02 7.40880000e+01 1.76400000e+01\n",
      "  4.20000000e+00 1.00000000e+00]\n",
      " [5.57703426e+05 1.28207684e+05 2.94730308e+04 6.77540939e+03\n",
      "  1.55756538e+03 3.58061006e+02 8.23128750e+01 1.89225000e+01\n",
      "  4.35000000e+00 1.00000000e+00]\n",
      " [7.56680643e+05 1.68151254e+05 3.73669453e+04 8.30376562e+03\n",
      "  1.84528125e+03 4.10062500e+02 9.11250000e+01 2.02500000e+01\n",
      "  4.50000000e+00 1.00000000e+00]\n",
      " [1.01642790e+06 2.18586644e+05 4.70078805e+04 1.01092216e+04\n",
      "  2.17402615e+03 4.67532506e+02 1.00544625e+02 2.16225000e+01\n",
      "  4.65000000e+00 1.00000000e+00]\n",
      " [1.35260546e+06 2.81792804e+05 5.87068342e+04 1.22305905e+04\n",
      "  2.54803968e+03 5.30841600e+02 1.10592000e+02 2.30400000e+01\n",
      "  4.80000000e+00 1.00000000e+00]\n",
      " [1.78421337e+06 3.60447146e+05 7.28176053e+04 1.47106273e+04\n",
      "  2.97184391e+03 6.00372506e+02 1.21287375e+02 2.45025000e+01\n",
      "  4.95000000e+00 1.00000000e+00]\n",
      " [2.33416517e+06 4.57679446e+05 8.97410678e+04 1.75962878e+04\n",
      "  3.45025251e+03 6.76520100e+02 1.32651000e+02 2.60100000e+01\n",
      "  5.10000000e+00 1.00000000e+00]\n",
      " [3.02993792e+06 5.77131033e+05 1.09929721e+05 2.09389944e+04\n",
      "  3.98837988e+03 7.59691406e+02 1.44703125e+02 2.75625000e+01\n",
      "  5.25000000e+00 1.00000000e+00]\n",
      " [3.90430591e+06 7.23019613e+05 1.33892521e+05 2.47949113e+04\n",
      "  4.59165024e+03 8.50305600e+02 1.57464000e+02 2.91600000e+01\n",
      "  5.40000000e+00 1.00000000e+00]\n",
      " [4.99616587e+06 9.00210066e+05 1.62200012e+05 2.92252274e+04\n",
      "  5.26580673e+03 9.48794006e+02 1.70953875e+02 3.08025000e+01\n",
      "  5.55000000e+00 1.00000000e+00]\n",
      " [6.35146196e+06 1.11429157e+06 1.95489749e+05 3.42964472e+04\n",
      "  6.01692057e+03 1.05560010e+03 1.85193000e+02 3.24900000e+01\n",
      "  5.70000000e+00 1.00000000e+00]\n",
      " [8.02421940e+06 1.37166144e+06 2.34472040e+05 4.00806907e+04\n",
      "  6.85140011e+03 1.17117951e+03 2.00201625e+02 3.42225000e+01\n",
      "  5.85000000e+00 1.00000000e+00]]\n",
      "Lösung  pPoly = [ 5.85395955e-03 -1.56069908e-01  1.73925237e+00 -1.04955664e+01\n",
      "  3.71077505e+01 -7.75603711e+01  9.18301703e+01 -5.54757481e+01\n",
      "  1.38030148e+01 -2.14507634e+00]\n"
     ]
    }
   ],
   "source": [
    "# Parameter p9, p8, p7, .... p2, p1, p0 des Ausgleichspolynoms \n",
    "# yPoly = p9*x**9 + p8*x**8 +...... + p3*x**3 + p2*x**2 + p1*x + p0 berechnen\n",
    "# ----------------------------------------------------------------------\n",
    "# 1. A-Matrix aufstellen\n",
    "V1 = np.ones(40)  # shape: (3,)\n",
    "A_T = np.array([x**9,x**8,x**7,x**6,x**5,x**4,x**3,x**2,x,V1])\n",
    "print('shape A_T =', A_T.shape) \n",
    "print('A_T       =\\n', A_T) \n",
    "print()\n",
    "# pro Spalte ein Vektor\n",
    "A = np.transpose(A_T)\n",
    "\n",
    "# 2. shape von Matrix A anzeigen und kontrollieren\n",
    "print('shape A =', A.shape) \n",
    "print('A       =\\n', A)\n",
    "\n",
    "\n",
    "# 3. Die Parameter pPoly=[p9, p8, ..... p3, p2, p1, p0] des Polynoms durch Ausgleichung \n",
    "#   A_T * A * pPoly = A_T * y_Noise bestimmen.\n",
    "pPoly = np.linalg.solve(np.dot(A_T,A), np.dot(A_T,yNoise)) \n",
    "print('Lösung  pPoly =',  pPoly)\n",
    "\n",
    "\n",
    "\n",
    "# Hier geht es los ........."
   ]
  },
  {
   "cell_type": "code",
   "execution_count": 13,
   "metadata": {},
   "outputs": [
    {
     "name": "stdout",
     "output_type": "stream",
     "text": [
      "shape yPoly = (40,)\n",
      "yPoly       =\n",
      " [-2.14507634 -1.04946531 -1.06292281 -1.37616367 -1.60910099 -1.64282171\n",
      " -1.49993905 -1.26346523 -1.02563403 -0.85930705 -0.80572044 -0.8733699\n",
      " -1.04379117 -1.28087115 -1.54112069 -1.7830547  -1.97445799 -2.09686636\n",
      " -2.14706173 -2.13576838 -2.08404284 -2.01807502 -1.96326053 -1.93846565\n",
      " -1.95138548 -1.99579395 -2.05130029 -2.0859612  -2.06175053 -1.94245968\n",
      " -1.70309129 -1.33921658 -0.87409291 -0.36058254  0.12592347  0.5082913\n",
      "  0.74785581  0.91085505  1.26904939  2.44373224]\n"
     ]
    }
   ],
   "source": [
    "# Ausgleichspolynom 9-ten Gerades berechnen \n",
    "# 1. Alle Punkte yPoly des Ausgleichspolynoms \n",
    "#    yPoly = p9*x**3 + .... + p3*x**3 + p2*x**2 + p1*x + p0 berechnen\n",
    "yKub = pKub[0]*x**3 + pKub[1]*x**2 + pKub[2]*x + pKub[3]\n",
    "yPoly=pPoly[0]*x**9+pPoly[1]*x**8+pPoly[2]*x**7+pPoly[3]*x**6+pPoly[4]*x**5+pPoly[5]*x**4+pPoly[6]*x**3+pPoly[7]*x**2+pPoly[8]*x+pPoly[9]\n",
    "# 2. shape der berechneten Punkte y ausgeben und kontrollieren \n",
    "# 2. shape der berechneten Punkte yPoly ausgeben und kontrollieren \n",
    "print('shape yPoly =', yPoly.shape) \n",
    "print('yPoly       =\\n', yPoly)\n",
    "\n",
    "# Hier geht es los ........."
   ]
  },
  {
   "cell_type": "code",
   "execution_count": 14,
   "metadata": {},
   "outputs": [
    {
     "data": {
      "text/plain": [
       "<matplotlib.legend.Legend at 0x205fbb70088>"
      ]
     },
     "execution_count": 14,
     "metadata": {},
     "output_type": "execute_result"
    },
    {
     "data": {
      "image/png": "[encoded data removed]",
      "text/plain": [
       "<Figure size 432x288 with 1 Axes>"
      ]
     },
     "metadata": {
      "needs_background": "light"
     },
     "output_type": "display_data"
    }
   ],
   "source": [
    "# Ergebnis mit Legende plotten\n",
    " # a) verrauschte Daten (schwarz), \n",
    "plt.scatter(x, yNoise, s=3,  color='black', label='verrauschte Daten')\n",
    "# b) rauschfreier Prozess (rot) \n",
    "plt.plot(   x, yTrue, 'red', label='rauschfreier Prozess')\n",
    "plt.grid()\n",
    "plt.legend(numpoints=None)\n",
    "\n",
    "\n",
    "# c1) Ausgleichsgerade yLin (grün)\n",
    "plt.plot(x, yLin, 'green', label='Ausgleichsgerade')\n",
    "plt.grid()\n",
    "plt.legend(numpoints=None)\n",
    "# c2) Kub. Ausgleichspolynom (orange)\n",
    "plt.plot(x, yKub, 'orange', label='Kub. Ausgleichspolynom ')\n",
    "plt.grid()\n",
    "plt.legend(numpoints=None)\n",
    "# c3) Ausgleichspolynom 9. Grades (blau)\n",
    "plt.plot(x, yPoly, 'blue', label='Ausgleichspolynom 9. Grades ')\n",
    "plt.grid()\n",
    "plt.legend(numpoints=None)"
   ]
  },
  {
   "cell_type": "code",
   "execution_count": 15,
   "metadata": {},
   "outputs": [
    {
     "name": "stdout",
     "output_type": "stream",
     "text": [
      "Variable      Type       Data/Info\n",
      "----------------------------------\n",
      "A             ndarray    40x10: 400 elems, type `float64`, 3200 bytes\n",
      "A_T           ndarray    10x40: 400 elems, type `float64`, 3200 bytes\n",
      "V1            ndarray    40: 40 elems, type `float64`, 320 bytes\n",
      "mpl           module     <module 'matplotlib' from<...>matplotlib\\\\__init__.py'>\n",
      "n             int        40\n",
      "np            module     <module 'numpy' from 'C:\\<...>ges\\\\numpy\\\\__init__.py'>\n",
      "pKub          ndarray    4: 4 elems, type `float64`, 32 bytes\n",
      "pLin          ndarray    2: 2 elems, type `float64`, 16 bytes\n",
      "pPoly         ndarray    10: 10 elems, type `float64`, 80 bytes\n",
      "plt           module     <module 'matplotlib.pyplo<...>\\\\matplotlib\\\\pyplot.py'>\n",
      "pp            int        2\n",
      "rv            ndarray    40: 40 elems, type `float64`, 320 bytes\n",
      "x             ndarray    40: 40 elems, type `float64`, 320 bytes\n",
      "xStart        int        0\n",
      "xStop         int        6\n",
      "x_stepwidth   float      0.15\n",
      "yKub          ndarray    40: 40 elems, type `float64`, 320 bytes\n",
      "yLin          ndarray    40: 40 elems, type `float64`, 320 bytes\n",
      "yNoise        ndarray    40: 40 elems, type `float64`, 320 bytes\n",
      "yPoly         ndarray    40: 40 elems, type `float64`, 320 bytes\n",
      "yTrue         ndarray    40: 40 elems, type `float64`, 320 bytes\n"
     ]
    }
   ],
   "source": [
    "# Liste der Variablen ausgeben\n",
    "%whos "
   ]
  },
  {
   "cell_type": "code",
   "execution_count": null,
   "metadata": {},
   "outputs": [],
   "source": []
  },
  {
   "cell_type": "code",
   "execution_count": null,
   "metadata": {},
   "outputs": [],
   "source": []
  },
  {
   "cell_type": "code",
   "execution_count": null,
   "metadata": {},
   "outputs": [],
   "source": []
  },
  {
   "cell_type": "code",
   "execution_count": null,
   "metadata": {},
   "outputs": [],
   "source": []
  }
 ],
 "metadata": {
  "kernelspec": {
   "display_name": "Python 3",
   "language": "python",
   "name": "python3"
  },
  "language_info": {
   "codemirror_mode": {
    "name": "ipython",
    "version": 3
   },
   "file_extension": ".py",
   "mimetype": "text/x-python",
   "name": "python",
   "nbconvert_exporter": "python",
   "pygments_lexer": "ipython3",
   "version": "3.7.9"
  }
 },
 "nbformat": 4,
 "nbformat_minor": 4
}
