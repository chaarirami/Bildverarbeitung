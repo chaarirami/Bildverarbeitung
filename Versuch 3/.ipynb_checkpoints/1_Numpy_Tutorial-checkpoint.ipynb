{
 "cells": [
  {
   "cell_type": "markdown",
   "metadata": {},
   "source": [
    "## Numpy-Tutorial 1\n",
    "\n",
    "In diesem Tutorial werden diejenigen Python-Befehle vorgestellt, \n",
    "die für den ersten Teilversuch (Ausgleichung verrauschter Daten)\n",
    "nützlich sind.\n",
    "\n",
    "Dies sind\n",
    "- Erzeugen von Vektoren mit fortlaufenden, äquidistanten Werten \n",
    "- Berechnung der Funktionswerte für ein Vektor von Variablenwerten\n",
    "- Plotten einfacher Funktionen\n",
    "- Erzeugen von Vektoren und init. mit Nullen oder Einsen\n",
    "- Umwandeln eines Vektors (n,) in eine Matrix (1,n)\n",
    "- Erzeugen und init. von Matrizen\n",
    "- Matrix-Vektor-Multiplikationen\n",
    "- Lösen bestimmter und überbestimmter Gleichungssysteme"
   ]
  },
  {
   "cell_type": "code",
   "execution_count": 1,
   "metadata": {},
   "outputs": [],
   "source": [
    "# Alle Variablen löschen ohne zu fragen.\n",
    "# Hierdurch werden Seiteneffekte vermieden.\n",
    "%reset -f"
   ]
  },
  {
   "cell_type": "code",
   "execution_count": 1,
   "metadata": {},
   "outputs": [],
   "source": [
    "import numpy as np\n",
    "import matplotlib as mpl\n",
    "import matplotlib.pyplot as plt"
   ]
  },
  {
   "cell_type": "code",
   "execution_count": 3,
   "metadata": {},
   "outputs": [
    {
     "name": "stdout",
     "output_type": "stream",
     "text": [
      "shape x = (10,)\n",
      "x       = [0.  0.2 0.4 0.6 0.8 1.  1.2 1.4 1.6 1.8]\n"
     ]
    }
   ],
   "source": [
    "# Erzeugen eines Vektors mit fortlaufenden Werten\n",
    "# -->  np.arange(start, stop, width)\n",
    "xStart      = 0  \n",
    "xStop       = 2\n",
    "x_stepwidth = 0.2\n",
    "\n",
    "# Erzeugen eines Vektors x\n",
    "x     = np.arange(xStart, xStop, x_stepwidth)\n",
    "print('shape x =', x.shape)\n",
    "print('x       =', x)"
   ]
  },
  {
   "cell_type": "code",
   "execution_count": 4,
   "metadata": {},
   "outputs": [
    {
     "name": "stdout",
     "output_type": "stream",
     "text": [
      "shape y = (10,)\n",
      "y       = [ 1.5   0.78  0.22 -0.18 -0.42 -0.5  -0.42 -0.18  0.22  0.78]\n"
     ]
    }
   ],
   "source": [
    "# Berechung der y-Werte eines Polynoms\n",
    "# für alle Werte des x-Vektors\n",
    "y = 2*x**2 -4*x + 1.5\n",
    "print('shape y =', y.shape)\n",
    "print('y       =', y)"
   ]
  },
  {
   "cell_type": "code",
   "execution_count": 5,
   "metadata": {},
   "outputs": [
    {
     "data": {
      "text/plain": [
       "<matplotlib.legend.Legend at 0x1723d91ad48>"
      ]
     },
     "execution_count": 5,
     "metadata": {},
     "output_type": "execute_result"
    },
    {
     "data": {
      "image/png": "[encoded data removed]",
      "text/plain": [
       "<Figure size 432x288 with 1 Axes>"
      ]
     },
     "metadata": {
      "needs_background": "light"
     },
     "output_type": "display_data"
    }
   ],
   "source": [
    "plt.plot(x, y, 'red', label='Polynom 2. Grades')\n",
    "plt.grid()\n",
    "plt.legend(numpoints=None)"
   ]
  },
  {
   "cell_type": "code",
   "execution_count": 6,
   "metadata": {},
   "outputs": [
    {
     "name": "stdout",
     "output_type": "stream",
     "text": [
      "shape z = (10,)\n",
      "z       = [1. 1. 1. 1. 1. 1. 1. 1. 1. 1.]\n"
     ]
    }
   ],
   "source": [
    "# Erzeugen eines Zeilenvektors mit 10 Elementen\n",
    "z = np.ones(10)\n",
    "print('shape z =', z.shape)\n",
    "print('z       =', z)"
   ]
  },
  {
   "cell_type": "code",
   "execution_count": 7,
   "metadata": {},
   "outputs": [
    {
     "name": "stdout",
     "output_type": "stream",
     "text": [
      "shape zM = (1, 10)\n",
      "zM       = [[1. 1. 1. 1. 1. 1. 1. 1. 1. 1.]]\n"
     ]
    }
   ],
   "source": [
    "# Umwandeln eines Zeilenvektors in eine Matrix\n",
    "# mit einer Zeile (= Vektor in Matrixdarstellung)\n",
    "\n",
    "zM = np.array([z])  # Beachte \"shape\":  (10,) --> (1,10)\n",
    "print('shape zM =', zM.shape) \n",
    "print('zM       =', zM)        "
   ]
  },
  {
   "cell_type": "code",
   "execution_count": 8,
   "metadata": {},
   "outputs": [
    {
     "name": "stdout",
     "output_type": "stream",
     "text": [
      "shape zT = (10, 1)\n",
      "zT       =\n",
      " [[1.]\n",
      " [1.]\n",
      " [1.]\n",
      " [1.]\n",
      " [1.]\n",
      " [1.]\n",
      " [1.]\n",
      " [1.]\n",
      " [1.]\n",
      " [1.]]\n"
     ]
    }
   ],
   "source": [
    "# Transponieren eines Vektors in Matrixdarstellung \n",
    "# (Zeilenvektor --> Spaltenvektor)\n",
    "\n",
    "zT = np.transpose(zM)   # (1,10) --> (10,1)\n",
    "print('shape zT =', zT.shape) \n",
    "print('zT       =\\n', zT)     "
   ]
  },
  {
   "cell_type": "code",
   "execution_count": 9,
   "metadata": {},
   "outputs": [
    {
     "name": "stdout",
     "output_type": "stream",
     "text": [
      "shape B = (3, 2)\n",
      "B       =\n",
      " [[1 2]\n",
      " [3 4]\n",
      " [5 6]]\n"
     ]
    }
   ],
   "source": [
    "# Erstellen einer Matrix B\n",
    "# 3 Zeilen x 2 Spalten\n",
    "B = np.array([[1,2],[3,4],[5,6]])\n",
    "print('shape B =', B.shape) \n",
    "print('B       =\\n', B)     "
   ]
  },
  {
   "cell_type": "code",
   "execution_count": 10,
   "metadata": {},
   "outputs": [
    {
     "name": "stdout",
     "output_type": "stream",
     "text": [
      "shape A = (2, 3)\n",
      "A       =\n",
      " [[10. 20. 30.]\n",
      " [ 1.  1.  1.]]\n",
      "\n",
      "shape T = (3, 2)\n",
      "T       =\n",
      " [[10.  1.]\n",
      " [20.  1.]\n",
      " [30.  1.]]\n"
     ]
    }
   ],
   "source": [
    "# Erzeugen einer Matrix A \n",
    "# (aus Vektoren) : pro Zeile ein Vektor\n",
    "v1 = np.array([10,20,30])  # shape: (3,)\n",
    "v2 = np.ones(3)            # shape: (3,)\n",
    "A = np.array([v1,v2]) \n",
    "print('shape A =', A.shape) \n",
    "print('A       =\\n', A) \n",
    "print()\n",
    "# pro Spalte ein Vektor\n",
    "AT = np.transpose(A)\n",
    "print('shape T =', AT.shape) \n",
    "print('T       =\\n', AT)"
   ]
  },
  {
   "cell_type": "code",
   "execution_count": 11,
   "metadata": {},
   "outputs": [
    {
     "name": "stdout",
     "output_type": "stream",
     "text": [
      "Erg = [ 1 -2]\n",
      "shape Erg = (2,)\n"
     ]
    }
   ],
   "source": [
    "# Matrix-Vektor-Multiplikation  A_Mat*xVek\n",
    "A_Mat = np.array([[1, 2],[3, 1]])    # A-Matrix (2,2)\n",
    "xVek  = np.array([-1, 1])            # Vektor   (2, )\n",
    "Erg = np.dot(A_Mat, xVek)\n",
    "print('Erg =', Erg)\n",
    "print('shape Erg =', Erg.shape)"
   ]
  },
  {
   "cell_type": "code",
   "execution_count": 12,
   "metadata": {},
   "outputs": [
    {
     "name": "stdout",
     "output_type": "stream",
     "text": [
      "Lösung x1 = [0.2 0.4]\n"
     ]
    }
   ],
   "source": [
    "# Lösen eines bestimmten Gleichungssystems\n",
    "A1 = np.array([[1, 2],[3, 1]])   # A-Matrix\n",
    "b1 = np.array([1, 1])            # Lösungsvektor\n",
    "x1 = np.linalg.solve(A1, b1)   \n",
    "print('Lösung x1 =', x1)"
   ]
  },
  {
   "cell_type": "code",
   "execution_count": 13,
   "metadata": {},
   "outputs": [
    {
     "data": {
      "text/plain": [
       "True"
      ]
     },
     "execution_count": 13,
     "metadata": {},
     "output_type": "execute_result"
    }
   ],
   "source": [
    "# Test, ob Lösung richtig.\n",
    "np.allclose(np.dot(A1, x1), b1)"
   ]
  },
  {
   "cell_type": "code",
   "execution_count": 14,
   "metadata": {},
   "outputs": [
    {
     "name": "stdout",
     "output_type": "stream",
     "text": [
      "Lösung x2 = [0.1972093  0.41116279]\n"
     ]
    }
   ],
   "source": [
    "# Lösen eines überbestimmten Gleichungssystems mit (AT*A)*x = (AT*b) \n",
    "A2  = np.array([[1, 2], [3, 1], [1.2, 1.8]])   # A-Matrix (mehr Zeilen als notwendig)\n",
    "A2T = np.transpose(A2)\n",
    "b2 = np.array([1, 1, 1])                 # Lösungsvektor\n",
    "x2 = np.linalg.solve(np.dot(A2T,A2), np.dot(A2T,b2))   \n",
    "print('Lösung x2 =', x2)"
   ]
  },
  {
   "cell_type": "code",
   "execution_count": 15,
   "metadata": {},
   "outputs": [
    {
     "data": {
      "text/plain": [
       "True"
      ]
     },
     "execution_count": 15,
     "metadata": {},
     "output_type": "execute_result"
    }
   ],
   "source": [
    "# Test, ob Lösung (AT*A)*x = (AT*b)  richtig.\n",
    "np.allclose(np.dot(np.dot(A2T,A2),x2), np.dot(A2T,b2))"
   ]
  },
  {
   "cell_type": "code",
   "execution_count": null,
   "metadata": {},
   "outputs": [],
   "source": []
  }
 ],
 "metadata": {
  "kernelspec": {
   "display_name": "Python 3",
   "language": "python",
   "name": "python3"
  },
  "language_info": {
   "codemirror_mode": {
    "name": "ipython",
    "version": 3
   },
   "file_extension": ".py",
   "mimetype": "text/x-python",
   "name": "python",
   "nbconvert_exporter": "python",
   "pygments_lexer": "ipython3",
   "version": "3.7.9"
  }
 },
 "nbformat": 4,
 "nbformat_minor": 4
}
